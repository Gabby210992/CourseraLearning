{
 "cells": [
  {
   "cell_type": "markdown",
   "id": "ba96b2b8-eca5-4962-b1f6-a387eb30e34d",
   "metadata": {},
   "source": [
    "# Data Science Tools and Ecosystem "
   ]
  },
  {
   "cell_type": "markdown",
   "id": "1d4c76cc-510b-48c0-b432-3fef030add91",
   "metadata": {},
   "source": [
    "## Introduction\n",
    "> ### In this notebook, we summarize Data science Tools and Ecosystem"
   ]
  },
  {
   "cell_type": "markdown",
   "id": "f552a82f-4ae1-485b-84c0-0fd7ddc56e94",
   "metadata": {},
   "source": [
    "#### Objectives\n",
    "The objectives that this notebook covers include:\n",
    "- familiarize learners with the notebook environment\n",
    "- Familiarize learners with some programming languages used in Data Science\n",
    "- Get learners to remember tools for data science and some libraries used in data science\n",
    "- To familiarize learners with markdown commands such as\n",
    "  - Ordered list\n",
    "  - Unordered list\n",
    "- And to teach students how to create a table in markdown cell\n",
    "- To briefly introduce arithmetic operators and demonstrate briefly their uses"
   ]
  },
  {
   "cell_type": "markdown",
   "id": "bde0e758-3f9d-4e85-bcef-cd5e24011254",
   "metadata": {},
   "source": [
    "#### Some Programmming languages Data Scientist used are:\n",
    "1. Python\n",
    "2. R\n",
    "3. Microsoft Excel\n",
    "4. Tableau\n",
    "\n",
    "#### Some of the libraries used by Data Scientist especially in python programming language are:\n",
    "1. Pandas\n",
    "2. Numpy array\n",
    "3. Matplotlib\n",
    "4. Seaborn"
   ]
  },
  {
   "cell_type": "markdown",
   "id": "3622541e-38b7-40fe-8b19-9f0d4345a76a",
   "metadata": {},
   "source": [
    "#### Table of Tools for Data Science\n",
    "|  Tool       |\n",
    "|-------------|\n",
    "| hadoop      |\n",
    "| Apache      |\n",
    "| Spark       |"
   ]
  },
  {
   "cell_type": "markdown",
   "id": "29000369-0e85-48ff-b89e-ecd20b0f4a1b",
   "metadata": {},
   "source": [
    "### Introducing Arithmetic expression examples\n",
    "**Below are a few examples of evaluating arithmetic expressions in Python**"
   ]
  },
  {
   "cell_type": "code",
   "execution_count": 1,
   "id": "b26d7a00-4ef5-4bcb-b2f8-bb01fad350e7",
   "metadata": {},
   "outputs": [
    {
     "data": {
      "text/plain": [
       "17"
      ]
     },
     "execution_count": 1,
     "metadata": {},
     "output_type": "execute_result"
    }
   ],
   "source": [
    "# This a simple arithmetic expression to mutiply then add integers\n",
    "(3*4)+5"
   ]
  },
  {
   "cell_type": "code",
   "execution_count": 2,
   "id": "1313362a-6fea-48be-b870-895e0913d056",
   "metadata": {},
   "outputs": [
    {
     "data": {
      "text/plain": [
       "3.3333333333333335"
      ]
     },
     "execution_count": 2,
     "metadata": {},
     "output_type": "execute_result"
    }
   ],
   "source": [
    "# This will convert 200 minutes to hours by diving by 60\n",
    "200/60"
   ]
  },
  {
   "cell_type": "markdown",
   "id": "811f40ed-b113-42af-8a7a-ffd2614ffe3e",
   "metadata": {},
   "source": [
    "## Author: Kough Teryila Gabriel"
   ]
  },
  {
   "cell_type": "code",
   "execution_count": null,
   "id": "bba0dd51-ad86-43e0-b092-40107f3e5f1c",
   "metadata": {},
   "outputs": [],
   "source": []
  }
 ],
 "metadata": {
  "kernelspec": {
   "display_name": "Python 3 (ipykernel)",
   "language": "python",
   "name": "python3"
  },
  "language_info": {
   "codemirror_mode": {
    "name": "ipython",
    "version": 3
   },
   "file_extension": ".py",
   "mimetype": "text/x-python",
   "name": "python",
   "nbconvert_exporter": "python",
   "pygments_lexer": "ipython3",
   "version": "3.12.4"
  }
 },
 "nbformat": 4,
 "nbformat_minor": 5
}
